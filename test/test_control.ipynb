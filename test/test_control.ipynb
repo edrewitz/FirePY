{
 "cells": [
  {
   "cell_type": "code",
   "execution_count": 1,
   "id": "114f2b62-3656-4249-9bb1-a896c90e8f25",
   "metadata": {},
   "outputs": [],
   "source": [
    "import matplotlib.pyplot as plt\n",
    "import matplotlib as mpl\n",
    "import cartopy.crs as ccrs\n",
    "import cartopy.feature as cfeature\n",
    "import metpy.plots as mpplots\n",
    "import metpy.calc as mpcalc\n",
    "import numpy as np\n",
    "import parsers as parsers\n",
    "import geometry as geometry\n",
    "import colormaps as colormaps\n",
    "import pandas as pd\n",
    "import matplotlib.gridspec as gridspec\n",
    "import settings as settings\n",
    "import standard as standard\n",
    "import dims as dims\n",
    "import os\n",
    "\n",
    "from matplotlib.patheffects import withStroke\n",
    "from metpy.plots import USCOUNTIES\n",
    "from datetime import datetime, timedelta\n",
    "from dateutil import tz\n",
    "from calc import scaling, Thermodynamics, unit_conversion\n",
    "from utilities import file_functions\n",
    "from metpy.units import units\n",
    "from data_access import model_data"
   ]
  },
  {
   "cell_type": "code",
   "execution_count": 2,
   "id": "18dd1e9f-1543-4cb9-8d97-b6529f47d328",
   "metadata": {},
   "outputs": [
    {
     "name": "stdout",
     "output_type": "stream",
     "text": [
      "00z run not available yet. Now trying the 18z run from yesterday.\n"
     ]
    },
    {
     "name": "stderr",
     "output_type": "stream",
     "text": [
      "C:\\Users\\drewi\\miniconda3\\Lib\\site-packages\\xarray\\coding\\times.py:191: SerializationWarning: Ambiguous reference date string: 1-1-1 00:00:0.0. The first value is assumed to be the year hence will be padded with zeros to remove the ambiguity (the padded reference date string is: 0001-1-1 00:00:0.0). To remove this message, remove the ambiguity by padding your reference date strings with zeros.\n",
      "  ref_date = _ensure_padded_year(ref_date)\n"
     ]
    },
    {
     "name": "stdout",
     "output_type": "stream",
     "text": [
      "18z run downloaded successfully!\n"
     ]
    }
   ],
   "source": [
    "mpl.rcParams['font.weight'] = 'bold'\n",
    "local_time, utc_time = standard.plot_creation_time()\n",
    "cmap = colormaps.vorticity_colormap()\n",
    "ds = model_data.get_nomads_opendap_data('GFS0p25', 'CONUS & South Canada & North Mexico', None, None, None, None, dynamic=True)"
   ]
  },
  {
   "cell_type": "code",
   "execution_count": 3,
   "id": "eb73cf57-be89-4b5b-8a67-7e83105ba24a",
   "metadata": {},
   "outputs": [],
   "source": [
    "end = len(ds['time']) - 1"
   ]
  },
  {
   "cell_type": "code",
   "execution_count": 4,
   "id": "addbb070-029a-49c1-85ea-af1fd1f7df4a",
   "metadata": {},
   "outputs": [],
   "source": [
    "time = ds['time']"
   ]
  },
  {
   "cell_type": "code",
   "execution_count": 5,
   "id": "ceffced7-39ef-4ef4-b16c-ebe8a90cc323",
   "metadata": {},
   "outputs": [],
   "source": [
    "times = time.to_pandas()"
   ]
  },
  {
   "cell_type": "code",
   "execution_count": null,
   "id": "c92de125-eb4a-407e-9ee3-e9e0bc0dd467",
   "metadata": {},
   "outputs": [],
   "source": []
  },
  {
   "cell_type": "code",
   "execution_count": 6,
   "id": "42f371df-4b5f-4804-ba7f-3f5cddb45efe",
   "metadata": {},
   "outputs": [
    {
     "data": {
      "text/plain": [
       "'mapcrs = ccrs.LambertConformal()\\ndatacrs = ccrs.PlateCarree()\\n\\nprovinces = cfeature.NaturalEarthFeature(category=\\'cultural\\', \\n    name=\\'admin_1_states_provinces_lines\\', scale=\\'50m\\', facecolor=\\'none\\', edgecolor=\\'k\\')\\n\\nprops = dict(boxstyle=\\'round\\', facecolor=\\'wheat\\', alpha=1)\\n\\npath, path_print = file_functions.forecast_model_graphics_paths(\\'GFS0p25\\', \\'CONUS & South Canada & North Mexico\\', \\'STATES ONLY\\', \\'Z500_Vorticity_Wind\\')\\n\\nfor t in range(0, end, 2):\\n\\n    fname = f\"Image_{t}.png\"\\n\\n    try:\\n        os.remove(f\"{path}/{fname}\")\\n        print(f\"Old Images Removed.\")\\n    except Exception as e:\\n        pass\\n\\n    fig = plt.figure(figsize=(10, 10))\\n    fig.set_facecolor(\\'aliceblue\\')\\n    \\n    ax = fig.add_subplot(1, 1, 1, projection=mapcrs)\\n    ax.set_extent([-130, -60, 20, 60], datacrs)\\n    ax.add_feature(cfeature.COASTLINE.with_scale(\\'50m\\'), linewidth=0.75, zorder=9)\\n    ax.add_feature(cfeature.STATES, linewidth=0.75, zorder=9)\\n    ax.add_feature(cfeature.LAND, color=\\'beige\\', zorder=1)\\n    ax.add_feature(cfeature.OCEAN, color=\\'lightcyan\\', zorder=1)\\n    ax.add_feature(cfeature.LAKES, color=\\'lightcyan\\', zorder=1)\\n    #ax.add_feature(USCOUNTIES, linewidth=0.25, zorder=1)\\n    ax.add_feature(provinces, linewidth=0.5, zorder=1)\\n    \\n    plt.title(\"GFS [0.25°x0.25°] 500 MB GPH [Dm]/ABS VORT [1/s]/WIND [kts]\", fontsize=9, fontweight=\\'bold\\', loc=\\'left\\')\\n    plt.title(\"Forecast Valid: \" +times[t].strftime(\\'%a %d/%H UTC\\')+\"\\nInitialization: \"+times[0].strftime(\\'%a %d/%H UTC\\'), fontsize=7, fontweight=\\'bold\\', loc=\\'right\\')\\n    ax.text(0.01, -0.03, \"Plot Created With FireWxPy (C) Eric J. Drewitz \" +utc_time.strftime(\\'%Y\\')+\" | Data Source: NOAA/NCEP/NOMADS\", transform=ax.transAxes, fontsize=6, fontweight=\\'bold\\', bbox=props)\\n    ax.text(0.68, -0.025, \"Image Created: \" + local_time.strftime(\\'%m/%d/%Y %H:%M Local\\') + \" (\" + utc_time.strftime(\\'%H:%M UTC\\') + \")\", transform=ax.transAxes, fontsize=5, fontweight=\\'bold\\', bbox=props)\\n    \\n    lon_2d, lat_2d = np.meshgrid(ds[\\'lon\\'], ds[\\'lat\\'])\\n    \\n    stn = mpplots.StationPlot(ax, lon_2d[::10, ::10], lat_2d[::10, ::10],\\n                     transform=ccrs.PlateCarree(), zorder=3, fontsize=5, clip_on=True)\\n    \\n    stn.plot_barb((ds[\\'ugrdprs\\'][t, 12, ::10, ::10] * 1.94384), (ds[\\'vgrdprs\\'][t, 12, ::10, ::10] * 1.94384), color=\\'black\\', alpha=1, zorder=3, linewidth=0.25)\\n    \\n    c_neg = ax.contour(ds[\\'lon\\'], ds[\\'lat\\'], (ds[\\'hgtprs\\'][t, 12, :, :]/10), levels=np.arange(440, 540, 4), colors=\\'darkblue\\', zorder=2, transform=datacrs, linewidths=0.5, linestyles=\\'--\\')\\n    c = ax.contour(ds[\\'lon\\'], ds[\\'lat\\'], (ds[\\'hgtprs\\'][t, 12, :, :]/10), levels=[540], colors=\\'black\\', zorder=2, transform=datacrs, linewidths=1)\\n    c_pos = ax.contour(ds[\\'lon\\'], ds[\\'lat\\'], (ds[\\'hgtprs\\'][t, 12, :, :]/10), levels=np.arange(544, 624, 4), colors=\\'darkred\\', zorder=2, transform=datacrs, linewidths=0.5, linestyles=\\'--\\')\\n    ax.clabel(c_neg, levels=np.arange(440, 540, 4), inline=True, fontsize=8, rightside_up=True)\\n    ax.clabel(c, levels=[540], inline=True, fontsize=8, rightside_up=True)\\n    ax.clabel(c_pos, levels=np.arange(544, 624, 4), inline=True, fontsize=8, rightside_up=True)\\n    \\n    cs = ax.contourf(ds[\\'lon\\'], ds[\\'lat\\'], ds[\\'absvprs\\'][t, 12, :, :], cmap=cmap, transform=datacrs, levels=np.arange(0, 55e-5, 50e-6), alpha=0.35, extend=\\'max\\')\\n    cbar = fig.colorbar(cs, shrink=0.55, pad=0.02, location=\\'right\\', format=\"{x:.0e}\")\\n\\n    fig.savefig(f\"{path}/{fname}\", bbox_inches=\\'tight\\')\\n\\n    print(f\"Saved image for forecast {times[t].strftime(\\'%a %d/%H UTC\\')} to {path_print}.\")\\n'"
      ]
     },
     "execution_count": 6,
     "metadata": {},
     "output_type": "execute_result"
    }
   ],
   "source": [
    "'''mapcrs = ccrs.LambertConformal()\n",
    "datacrs = ccrs.PlateCarree()\n",
    "\n",
    "provinces = cfeature.NaturalEarthFeature(category='cultural', \n",
    "    name='admin_1_states_provinces_lines', scale='50m', facecolor='none', edgecolor='k')\n",
    "\n",
    "props = dict(boxstyle='round', facecolor='wheat', alpha=1)\n",
    "\n",
    "path, path_print = file_functions.forecast_model_graphics_paths('GFS0p25', 'CONUS & South Canada & North Mexico', 'STATES ONLY', 'Z500_Vorticity_Wind')\n",
    "\n",
    "for t in range(0, end, 2):\n",
    "\n",
    "    fname = f\"Image_{t}.png\"\n",
    "\n",
    "    try:\n",
    "        os.remove(f\"{path}/{fname}\")\n",
    "        print(f\"Old Images Removed.\")\n",
    "    except Exception as e:\n",
    "        pass\n",
    "\n",
    "    fig = plt.figure(figsize=(10, 10))\n",
    "    fig.set_facecolor('aliceblue')\n",
    "    \n",
    "    ax = fig.add_subplot(1, 1, 1, projection=mapcrs)\n",
    "    ax.set_extent([-130, -60, 20, 60], datacrs)\n",
    "    ax.add_feature(cfeature.COASTLINE.with_scale('50m'), linewidth=0.75, zorder=9)\n",
    "    ax.add_feature(cfeature.STATES, linewidth=0.75, zorder=9)\n",
    "    ax.add_feature(cfeature.LAND, color='beige', zorder=1)\n",
    "    ax.add_feature(cfeature.OCEAN, color='lightcyan', zorder=1)\n",
    "    ax.add_feature(cfeature.LAKES, color='lightcyan', zorder=1)\n",
    "    #ax.add_feature(USCOUNTIES, linewidth=0.25, zorder=1)\n",
    "    ax.add_feature(provinces, linewidth=0.5, zorder=1)\n",
    "    \n",
    "    plt.title(\"GFS [0.25°x0.25°] 500 MB GPH [Dm]/ABS VORT [1/s]/WIND [kts]\", fontsize=9, fontweight='bold', loc='left')\n",
    "    plt.title(\"Forecast Valid: \" +times[t].strftime('%a %d/%H UTC')+\"\\nInitialization: \"+times[0].strftime('%a %d/%H UTC'), fontsize=7, fontweight='bold', loc='right')\n",
    "    ax.text(0.01, -0.03, \"Plot Created With FireWxPy (C) Eric J. Drewitz \" +utc_time.strftime('%Y')+\" | Data Source: NOAA/NCEP/NOMADS\", transform=ax.transAxes, fontsize=6, fontweight='bold', bbox=props)\n",
    "    ax.text(0.68, -0.025, \"Image Created: \" + local_time.strftime('%m/%d/%Y %H:%M Local') + \" (\" + utc_time.strftime('%H:%M UTC') + \")\", transform=ax.transAxes, fontsize=5, fontweight='bold', bbox=props)\n",
    "    \n",
    "    lon_2d, lat_2d = np.meshgrid(ds['lon'], ds['lat'])\n",
    "    \n",
    "    stn = mpplots.StationPlot(ax, lon_2d[::10, ::10], lat_2d[::10, ::10],\n",
    "                     transform=ccrs.PlateCarree(), zorder=3, fontsize=5, clip_on=True)\n",
    "    \n",
    "    stn.plot_barb((ds['ugrdprs'][t, 12, ::10, ::10] * 1.94384), (ds['vgrdprs'][t, 12, ::10, ::10] * 1.94384), color='black', alpha=1, zorder=3, linewidth=0.25)\n",
    "    \n",
    "    c_neg = ax.contour(ds['lon'], ds['lat'], (ds['hgtprs'][t, 12, :, :]/10), levels=np.arange(440, 540, 4), colors='darkblue', zorder=2, transform=datacrs, linewidths=0.5, linestyles='--')\n",
    "    c = ax.contour(ds['lon'], ds['lat'], (ds['hgtprs'][t, 12, :, :]/10), levels=[540], colors='black', zorder=2, transform=datacrs, linewidths=1)\n",
    "    c_pos = ax.contour(ds['lon'], ds['lat'], (ds['hgtprs'][t, 12, :, :]/10), levels=np.arange(544, 624, 4), colors='darkred', zorder=2, transform=datacrs, linewidths=0.5, linestyles='--')\n",
    "    ax.clabel(c_neg, levels=np.arange(440, 540, 4), inline=True, fontsize=8, rightside_up=True)\n",
    "    ax.clabel(c, levels=[540], inline=True, fontsize=8, rightside_up=True)\n",
    "    ax.clabel(c_pos, levels=np.arange(544, 624, 4), inline=True, fontsize=8, rightside_up=True)\n",
    "    \n",
    "    cs = ax.contourf(ds['lon'], ds['lat'], ds['absvprs'][t, 12, :, :], cmap=cmap, transform=datacrs, levels=np.arange(0, 55e-5, 50e-6), alpha=0.35, extend='max')\n",
    "    cbar = fig.colorbar(cs, shrink=0.55, pad=0.02, location='right', format=\"{x:.0e}\")\n",
    "\n",
    "    fig.savefig(f\"{path}/{fname}\", bbox_inches='tight')\n",
    "\n",
    "    print(f\"Saved image for forecast {times[t].strftime('%a %d/%H UTC')} to {path_print}.\")\n",
    "'''\n"
   ]
  },
  {
   "cell_type": "code",
   "execution_count": null,
   "id": "52a65c04-5adc-41c4-b57d-2dcb18b352b0",
   "metadata": {},
   "outputs": [],
   "source": []
  },
  {
   "cell_type": "code",
   "execution_count": null,
   "id": "0d487477-8b6d-47cd-8af3-b4f657b2abbf",
   "metadata": {},
   "outputs": [],
   "source": []
  },
  {
   "cell_type": "code",
   "execution_count": null,
   "id": "80401fab-1b71-4661-8a9b-8aa5cf0613f9",
   "metadata": {},
   "outputs": [],
   "source": []
  },
  {
   "cell_type": "code",
   "execution_count": null,
   "id": "9af1c3cc-4bd9-48ba-bbe4-051194972f75",
   "metadata": {},
   "outputs": [],
   "source": []
  },
  {
   "cell_type": "code",
   "execution_count": null,
   "id": "b4ea4cc7-0522-4b1c-8aca-328e4702f274",
   "metadata": {},
   "outputs": [],
   "source": []
  },
  {
   "cell_type": "code",
   "execution_count": null,
   "id": "3aa14166-3896-491f-8ca6-cbede035812f",
   "metadata": {},
   "outputs": [],
   "source": []
  }
 ],
 "metadata": {
  "kernelspec": {
   "display_name": "Python 3 (ipykernel)",
   "language": "python",
   "name": "python3"
  },
  "language_info": {
   "codemirror_mode": {
    "name": "ipython",
    "version": 3
   },
   "file_extension": ".py",
   "mimetype": "text/x-python",
   "name": "python",
   "nbconvert_exporter": "python",
   "pygments_lexer": "ipython3",
   "version": "3.12.7"
  }
 },
 "nbformat": 4,
 "nbformat_minor": 5
}
